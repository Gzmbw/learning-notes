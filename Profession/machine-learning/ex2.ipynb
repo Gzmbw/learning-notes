{
 "cells": [
  {
   "cell_type": "markdown",
   "metadata": {},
   "source": [
    "# Programming Exercise 2: Logistic Regression\n",
    "\n",
    "## Introduction\n",
    "In this exercise, you will implement logistic regression and apply it to two different datasets. Before starting on the programming exercise, we strongly recommend watching the video lectures and completing the review questions for the associated topics."
   ]
  },
  {
   "cell_type": "markdown",
   "metadata": {},
   "source": [
    "## 1. Logistic Regression\n",
    "In this part of the exercise, you will build a logistic regression model to predict whether a student gets admitted into a university.\n",
    "\n",
    "Suppose that you are the administrator of a university department and you want to determine each applicant's chance of admission based on their results on two exams. You have historical data from previous applicants that you can use as a training set for logistic regression. For each training example, you have the applicant's scores on two exams and the admissions decision.\n",
    "\n",
    "Your task is to build a classification model that estimates an applicant's probability of admission based the scores from those two exams.\n",
    "\n",
    "Note: The file `data/ex2/ex2data1.txt` and `data/ex2/ex2data2.txt` are both CSV (Comma-separated Value) files."
   ]
  },
  {
   "cell_type": "code",
   "execution_count": 1,
   "metadata": {
    "collapsed": true,
    "scrolled": false
   },
   "outputs": [],
   "source": [
    "import numpy as np\n",
    "import matplotlib.pyplot as plt\n",
    "from matplotlib import cm\n",
    "from scipy.optimize import minimize\n",
    "\n",
    "%matplotlib inline"
   ]
  },
  {
   "cell_type": "markdown",
   "metadata": {},
   "source": [
    "### 1.1. Visualizing the data\n",
    "Before starting to implement any learning algorithm, it is always good to visualize the data if possible. In the first part, the code will load the data and display it on a 2-dimensional plot by calling the function `plotData`.\n",
    "\n",
    "You will now complete the code in `plotData` so that it displays a figure of the data, where the axes are the two exam scores, and the positive and negative examples are shown with different markers."
   ]
  },
  {
   "cell_type": "code",
   "execution_count": 2,
   "metadata": {
    "scrolled": false
   },
   "outputs": [
    {
     "name": "stdout",
     "output_type": "stream",
     "text": [
      "First 10 examples from the dataset:\n",
      "x = [ 34.62365962  78.02469282], y = [ 0.]\n",
      "x = [ 30.28671077  43.89499752], y = [ 0.]\n",
      "x = [ 35.84740877  72.90219803], y = [ 0.]\n",
      "x = [ 60.18259939  86.3085521 ], y = [ 1.]\n",
      "x = [ 79.03273605  75.34437644], y = [ 1.]\n",
      "x = [ 45.08327748  56.31637178], y = [ 0.]\n",
      "x = [ 61.10666454  96.51142588], y = [ 1.]\n",
      "x = [ 75.02474557  46.55401354], y = [ 1.]\n",
      "x = [ 76.0987867   87.42056972], y = [ 1.]\n",
      "x = [ 84.43281996  43.53339331], y = [ 1.]\n"
     ]
    }
   ],
   "source": [
    "# Load data from CSV file\n",
    "# - column 1: score of first exam\n",
    "# - column 2: score of second exam\n",
    "# - column 3: admitted (1) or not (0)\n",
    "data = np.loadtxt('data/ex2/ex2data1.txt', delimiter=',')\n",
    "\n",
    "# Split data into X and y\n",
    "X, y = np.hsplit(data, np.array([2]))\n",
    "\n",
    "# Print out some data points\n",
    "print(\"First 10 examples from the dataset:\")\n",
    "for i in range(10):\n",
    "    print(\"x = \" + str(X[i, :]) + \", y = \" + str(y[i]))"
   ]
  },
  {
   "cell_type": "code",
   "execution_count": 3,
   "metadata": {
    "collapsed": true,
    "scrolled": false
   },
   "outputs": [],
   "source": [
    "def plotData(X, y, x1label='Admitted', x2label='Not admitted'):\n",
    "    \"\"\"\n",
    "    `plotData` plots the data points X and y into a new figure. It will\n",
    "    plot the data points with + for the positive examples and o for the\n",
    "    negative examples. X is assumed to be a Mx2 matrix.\n",
    "    \"\"\"\n",
    "    \n",
    "    # Get the indices of positive and negative examples\n",
    "    pos = np.squeeze(y == 1)\n",
    "    neg = np.squeeze(y == 0)\n",
    "    plt.scatter(X[pos][:, 0], X[pos][:, 1], c='k', marker='+', label=x1label)\n",
    "    plt.scatter(X[neg][:, 0], X[neg][:, 1], c='y', marker='o', label=x2label)\n",
    "    plt.title(\"Scatter plot of training data\")\n",
    "    plt.xlabel(\"Exam 1 score\")\n",
    "    plt.ylabel(\"Exam 2 score\")\n",
    "    plt.legend()"
   ]
  },
  {
   "cell_type": "code",
   "execution_count": 4,
   "metadata": {
    "scrolled": false
   },
   "outputs": [
    {
     "data": {
      "image/png": "[encoded data removed]",
      "text/plain": [
       "<matplotlib.figure.Figure at 0x114135588>"
      ]
     },
     "metadata": {},
     "output_type": "display_data"
    }
   ],
   "source": [
    "# Visualize the data\n",
    "plotData(X, y)\n",
    "plt.show()"
   ]
  },
  {
   "cell_type": "markdown",
   "metadata": {},
   "source": [
    "### 1.2. Implementation\n",
    "#### 1.2.1. Warmup exercise: sigmoid function\n",
    "Before you start with the actual cost function, recall that the logistic regression hypothesis is defined as:\n",
    "$$h_{\\theta}(x) = g(\\theta ^T x)$$\n",
    "where function $g$ is the sigmoid function. The sigmoid function is defined as:\n",
    "$$g(z) = \\frac{1}{1+e^{-z}}$$\n",
    "\n",
    "Your first step is to implement `sigmoid` function so it can be called by the rest of your program. When you are finished, try testing a few values by calling `sigmoid(x)`. For large positive values of `x`, the sigmoid should be close to 1, while for large negative values, the sigmoid should be close to 0. Evaluating `sigmoid(0)` should give you exactly 0.5. Your code should also work with vectors and matrices. **For a matrix, your function should perform the sigmoid function on every element.**"
   ]
  },
  {
   "cell_type": "code",
   "execution_count": 5,
   "metadata": {
    "collapsed": true,
    "scrolled": false
   },
   "outputs": [],
   "source": [
    "def sigmoid(z):\n",
    "    \"\"\"\n",
    "    Return sigmoid(x) = 1 / (1 + e^(-z))\n",
    "    \"\"\"\n",
    "    \n",
    "    return 1 / (1 + np.exp(-z))"
   ]
  },
  {
   "cell_type": "code",
   "execution_count": 6,
   "metadata": {
    "scrolled": false
   },
   "outputs": [
    {
     "name": "stdout",
     "output_type": "stream",
     "text": [
      "sigmoid([[-10, 0, 10]]) = [[  4.53978687e-05   5.00000000e-01   9.99954602e-01]]\n"
     ]
    }
   ],
   "source": [
    "# Test sigmoid\n",
    "print(\"sigmoid([[-10, 0, 10]]) = \" + str(sigmoid(np.array([[-10, 0, 10]]))))"
   ]
  },
  {
   "cell_type": "markdown",
   "metadata": {},
   "source": [
    "#### 1.2.2 Cost function and gradient\n",
    "Now you will implement the cost function and gradient for logistic regression. Complete the code in function `costFunction` to return the cost and gradient.\n",
    "\n",
    "Recall that the cost function in logistic regression is\n",
    "$$J(\\theta) = \\frac{1}{m} \\sum_{i=1}^m [-y^{(i)} \\log(h_{\\theta}(x^{(i)})) - (1-y^{(i)})\\log(1-h_{\\theta}(x^{(i)}))]$$\n",
    "and the gradient of the cost is a vector of the same length as $\\theta$ where the $j^{\\text{th}}$ element (for $j = 0, 1, \\ldots, n$) is defined as follows:\n",
    "$$\\frac{\\partial J(\\theta)}{\\partial \\theta_j} = \\frac{1}{m} \\sum_{i=1}^m (h_{\\theta}(x^{(i)}) - y^{(i)})x_j^{(i)}$$\n",
    "\n",
    "Note that while this gradient looks identical to the linear regression gradient, the formula is actually different because linear and logistic regression have different definitions of $h_{\\theta}(x)$.\n",
    "\n",
    "Once you have done, the code will call your `costFunction` using the initial parameters of $\\theta$. You should see that the cost is about 0.693."
   ]
  },
  {
   "cell_type": "code",
   "execution_count": 7,
   "metadata": {
    "scrolled": false
   },
   "outputs": [],
   "source": [
    "def costFunction(theta, X, y):\n",
    "    \"\"\"\n",
    "    `J, grad = costFunction(X, y, theta)` computes the cost of using theta\n",
    "    as the parameters for logistic regression and the gradient of the cost\n",
    "    w.r.t. the parameters.\n",
    "    \"\"\"\n",
    "    \n",
    "    # Arguments theta and y may be rank 1 array\n",
    "    theta = theta.reshape((theta.shape[0], 1))\n",
    "    y = y.reshape((y.shape[0], 1))\n",
    "    \n",
    "    # Initialize the number of training examples\n",
    "    m = X.shape[0]\n",
    "    \n",
    "    # Compute the cost J\n",
    "    J = np.sum(- y * np.log(sigmoid(np.dot(X, theta))) \\\n",
    "               - (1-y) * np.log(1 - sigmoid(np.dot(X, theta)))) / m\n",
    "    \n",
    "    # Compute the gradients\n",
    "    grads = np.dot(X.T, sigmoid(np.dot(X, theta))-y) / m\n",
    "    # Rerturn J and grads (grads should be a rank 1 array)\n",
    "    return J, grads.ravel()"
   ]
  },
  {
   "cell_type": "code",
   "execution_count": 8,
   "metadata": {
    "scrolled": false
   },
   "outputs": [
    {
     "name": "stdout",
     "output_type": "stream",
     "text": [
      "The number of training examples: 100\n",
      "The number of features: 2\n",
      "Cost at initial theta (zeros):\n",
      "0.69314718056\n",
      "Expected cost (approx): 0.693\n",
      "Gradeint at initial theta (zeros):\n",
      "[ -0.1        -12.00921659 -11.26284221]\n",
      "Expected gradients (approx):\n",
      "[[ -0.1   ]\n",
      " [-12.0092]\n",
      " [-11.2628]]\n",
      "Cost at test theta [[-24] [0.2] [0.2]]:\n",
      "0.218330193827\n",
      "Expected cost (approx): 0.218\n",
      "Gradeint at test theta [[-24] [0.2] [0.2]]:\n",
      "[ 0.04290299  2.56623412  2.64679737]\n",
      "Expected gradients (approx):\n",
      "[[ 0.043]\n",
      " [ 2.566]\n",
      " [ 2.647]]\n"
     ]
    }
   ],
   "source": [
    "# Compute cost and gradient\n",
    "\n",
    "# Get the number of examples (m) and the number of features (n)\n",
    "m, n = X.shape\n",
    "print(\"The number of training examples: \" + str(m))\n",
    "print(\"The number of features: \" + str(n))\n",
    "\n",
    "# Add intercept term to X\n",
    "X = np.hstack((np.ones((m, 1)), X))\n",
    "\n",
    "# Initialize fitting parameters\n",
    "initial_theta = np.zeros((n+1, 1))\n",
    "\n",
    "# Compute and display initial cost and gradient\n",
    "cost, grad = costFunction(initial_theta, X, y)\n",
    "\n",
    "print(\"Cost at initial theta (zeros):\")\n",
    "print(cost)\n",
    "print(\"Expected cost (approx): 0.693\")\n",
    "print(\"Gradeint at initial theta (zeros):\")\n",
    "print(grad)\n",
    "print(\"Expected gradients (approx):\")\n",
    "print(str(np.array([[-0.1000], [-12.0092], [-11.2628]])))\n",
    "\n",
    "# Compute and display cost and gradient with non-zero theta\n",
    "test_theta = np.array([[-24], [0.2], [0.2]])\n",
    "cost, grad = costFunction(test_theta, X, y)\n",
    "\n",
    "\n",
    "print(\"Cost at test theta [[-24] [0.2] [0.2]]:\")\n",
    "print(cost)\n",
    "print(\"Expected cost (approx): 0.218\")\n",
    "print(\"Gradeint at test theta [[-24] [0.2] [0.2]]:\")\n",
    "print(grad)\n",
    "print(\"Expected gradients (approx):\")\n",
    "print(str(np.array([[0.043], [2.566], [2.647]])))"
   ]
  },
  {
   "cell_type": "markdown",
   "metadata": {},
   "source": [
    "#### 1.2.3. Learning parameters using optimization functions\n",
    "In the previous assignment, you found the optimal parameters of a linear regression model by implementing gradient descent. You wrote a cost function and calculated its gradient, then took a gradient descent step accordingly. This time, instead of taking gradient descent steps, you will use scipy built-in function called `optimize.minimize` (corresponding to  `fminunc` in MATLAB/Octave).\n",
    "\n",
    "`optimize.minimize` is an optimization solver that can find the minimum of your cost function. For logistic regression, you want to optimize the cost function $J(\\theta)$ with parameters $\\theta$.\n",
    "\n",
    "Concretely, you are going to use `optimize.minimize` to find the best parameters $\\theta$ for the logistic regression cost function, given a fixed dataset (of $X$ and $y$ values). You will pass to `minimize` the following inputs:\n",
    "- **x0:** The initial values of the parameters we are trying to optimize.\n",
    "- **fun:** Objective function (cost function), when given the training set and a particular $\\theta$, computes the logistic regression cost and gradient with respect to $\\theta$ for the dataset $(X, y)$. \n",
    "- **args:** tuple, optional. Extra arguments passed to the objective function and its derivatives (Jacobian, Hessian).\n",
    "- **jac:** bool or callable, optional. Jacobian (gradient) of objective function. Only for CG, BFGS, Newton-CG, L-BFGS-B, TNC, SLSQP, dogleg, trust-ncg. If *jac* is a `Boolean` and is `True`, *fun* is assumed to return the gradient along with the objective function. If `False`, the gradient will be estimated numerically. *jac* can also be a callable returning the gradient of the objective. In this case, it must accept the same arguments as *fun*.\n",
    "\n",
    "And `minimize` will return the optimal parameters of $\\theta$, with a cost about 0.203.\n",
    "\n",
    "This final $\\theta$ value will then be used to plot the decision boundary on the training data."
   ]
  },
  {
   "cell_type": "code",
   "execution_count": 9,
   "metadata": {
    "scrolled": false
   },
   "outputs": [
    {
     "name": "stdout",
     "output_type": "stream",
     "text": [
      "Cost at theta found by minimize: 0.20349770158944375\n",
      "Expected cost (approx): 0.203\n",
      "theta: \n",
      "[[-25.16133284]\n",
      " [  0.2062317 ]\n",
      " [  0.2014716 ]]\n",
      "Expected theta (approx): \n",
      "[[-25.161]\n",
      " [  0.206]\n",
      " [  0.201]]\n"
     ]
    },
    {
     "name": "stderr",
     "output_type": "stream",
     "text": [
      "/anaconda/lib/python3.6/site-packages/ipykernel_launcher.py:16: RuntimeWarning: divide by zero encountered in log\n",
      "  app.launch_new_instance()\n",
      "/anaconda/lib/python3.6/site-packages/ipykernel_launcher.py:16: RuntimeWarning: invalid value encountered in multiply\n",
      "  app.launch_new_instance()\n"
     ]
    }
   ],
   "source": [
    "# Optimizing using minimize\n",
    "# Note: `fminunc` in MATLAB/Octave uses Quasi-Newton method by default,\n",
    "# so I use *BFGS* (Quasi-Newton's implementation) here.\n",
    "# https://en.wikipedia.org/wiki/Quasi-Newton_method\n",
    "optimizeResult = minimize(fun=costFunction, x0=initial_theta.ravel(), \\\n",
    "                          args=(X, y.ravel()), method='BFGS', \\\n",
    "                          jac=True, options={'maxiter':400})\n",
    "# print(optimizeResult)\n",
    "\n",
    "theta = optimizeResult.x\n",
    "theta = theta.reshape((theta.shape[0], 1))\n",
    "cost = optimizeResult.fun\n",
    "\n",
    "# Print theta to screen\n",
    "print(\"Cost at theta found by minimize: \" + str(cost))\n",
    "print(\"Expected cost (approx): 0.203\")\n",
    "print(\"theta: \")\n",
    "print(theta)\n",
    "print(\"Expected theta (approx): \")\n",
    "print(np.array([[-25.161], [0.206], [0.201]]))"
   ]
  },
  {
   "cell_type": "code",
   "execution_count": 10,
   "metadata": {
    "scrolled": false
   },
   "outputs": [],
   "source": [
    "def plotDecisionBoundary(theta, X, y, rp=1):\n",
    "    \"\"\"\n",
    "    Plots the data points X and y into a new figure with the decision\n",
    "    boundary defined by theta.\n",
    "    It will plot the data points with + for the positive examples and o\n",
    "    for the negative examples. X is assumed to be a either\n",
    "    1) Mx3 matrix, where the first column is an all-ones column for the\n",
    "    intercept\n",
    "    2) MxN, N>3 matrix, where the first column is all-ones\n",
    "    \"\"\"\n",
    "    \n",
    "    # Get the original data of X without the intercept term\n",
    "    X_orig = np.hsplit(X, np.array([1]))[1]\n",
    "    \n",
    "    if X.shape[1] <= 3:\n",
    "        # Plot the training data\n",
    "        plotData(X_orig, y)\n",
    "        # Plot a straight line\n",
    "        # Only need 2 points to define a line, so choose two endpoints\n",
    "        x1_min = X_orig.min(axis=0)[0]\n",
    "        x1_max = X_orig.max(axis=0)[0]\n",
    "        x1_plot = np.arange(x1_min, x1_max)\n",
    "        x2_plot = (0.5 - theta[0] - theta[1] * x1_plot) / theta[2]\n",
    "        plt.plot(x1_plot, x2_plot)\n",
    "        plt.axis([30, 100, 30, 100])\n",
    "    else:\n",
    "        # Plot the training data\n",
    "        figContour = plt.figure()\n",
    "        plotData(X_orig, y, \"y=1\", \"y=0\")\n",
    "        # Plot a contour\n",
    "        u = np.linspace(-1, 1.5, 50)\n",
    "        v = np.linspace(-1, 1.5, 50)\n",
    "        \n",
    "        z = np.zeros((u.shape[0], v.shape[0]))\n",
    "        # Evaluate z = theta * x over the grid\n",
    "        for i in range(u.shape[0]):\n",
    "            for j in range(v.shape[0]):\n",
    "                uArray = np.array([[u[i]]])\n",
    "                vArray = np.array([[v[j]]])\n",
    "                z[i][j] = np.dot(mapFeature(uArray, vArray), theta)\n",
    "\n",
    "        \n",
    "        # Make the meshgrid\n",
    "        u, v = np.meshgrid(u, v)\n",
    "                \n",
    "        z = z.T # important to transpoze z before calling contour\n",
    "        \n",
    "        # Contour plot\n",
    "        plt.contour(u, v, z, np.array([0]))\n",
    "        plt.xlabel(\"Microchip Test 1\")\n",
    "        plt.ylabel(\"Microchip Test 2\")\n",
    "        plt.title(r\"Training data with decision boundary ($\\lambda$ = \" \\\n",
    "                  + str(rp) + \")\")"
   ]
  },
  {
   "cell_type": "code",
   "execution_count": 11,
   "metadata": {
    "scrolled": false
   },
   "outputs": [
    {
     "data": {
      "image/png": "[encoded data removed]",
      "text/plain": [
       "<matplotlib.figure.Figure at 0x117585898>"
      ]
     },
     "metadata": {},
     "output_type": "display_data"
    }
   ],
   "source": [
    "# Plot the decision boundary\n",
    "plotDecisionBoundary(theta, X, y)\n",
    "plt.title(\"Training data with decision boundary\")\n",
    "plt.show()"
   ]
  },
  {
   "cell_type": "markdown",
   "metadata": {},
   "source": [
    "#### 1.2.4. Evaluating logistic regression\n",
    "After learning the parameters, you can use the model to predict whether a particular student will be admitted. For a student with an Exam 1 score of 45 and an Exam 2 score of 85, you should expect to see an admission probability of 0.776.\n",
    "\n",
    "Another way to evaluate the quality of the parameters we have found is to see how well the learned model predicts on our training set. In this part, your task is to complete the code of `predict` function. The `predict` function will produce \"1\" or \"0\" predictions given a dataset and a learned parameter vector $\\theta$.\n",
    "\n",
    "After completed `predict` function, the script will proceed to report the training accuracy of your classifier by computing the percentage of examples it got correct."
   ]
  },
  {
   "cell_type": "code",
   "execution_count": 12,
   "metadata": {
    "scrolled": false
   },
   "outputs": [
    {
     "name": "stdout",
     "output_type": "stream",
     "text": [
      "For a student with scores 45 and 85, we predict an admission probability of 0.7762907240588949\n",
      "Expected value: 0.775 +/- 0.002\n"
     ]
    }
   ],
   "source": [
    "# Predict probability for a student with score 45 on exam 1 and score 85\n",
    "# on exam 2\n",
    "prob = np.squeeze(sigmoid(np.dot(np.array([[1, 45, 85]]), theta)))\n",
    "print(\"For a student with scores 45 and 85, we predict an admission \" \\\n",
    "     + \"probability of \" + str(prob))\n",
    "print(\"Expected value: 0.775 +/- 0.002\")"
   ]
  },
  {
   "cell_type": "code",
   "execution_count": 13,
   "metadata": {
    "collapsed": true,
    "scrolled": false
   },
   "outputs": [],
   "source": [
    "def predict(theta, X):\n",
    "    \"\"\"\n",
    "    Predict whether the label is 0 or 1 using learned logistic regression\n",
    "    parameters theta.\n",
    "    p = predict(theta, X) computes the predictions for X using a threshold\n",
    "    at 0.5 (i.e., if sigmoid(np.dot(x, theta)) >= 0.5, predict 1)\n",
    "    \"\"\"\n",
    "    \n",
    "    m = X.shape[0]  # number of training examples\n",
    "    p = np.zeros((m, 1))\n",
    "    h = sigmoid(np.dot(X, theta))\n",
    "    p[h >= 0.5] = 1\n",
    "    return p"
   ]
  },
  {
   "cell_type": "code",
   "execution_count": 14,
   "metadata": {
    "scrolled": false
   },
   "outputs": [
    {
     "name": "stdout",
     "output_type": "stream",
     "text": [
      "Train Accuracy: 89.0\n",
      "Expected accuracy (approx): 89.0\n"
     ]
    }
   ],
   "source": [
    "# Compute accuracy on our training set\n",
    "p = predict(theta, X)\n",
    "accuracy = np.sum(p == y) / m * 100  # when sum, True as 1, False as 0\n",
    "print(\"Train Accuracy: \" + str(accuracy))\n",
    "print(\"Expected accuracy (approx): 89.0\")"
   ]
  },
  {
   "cell_type": "markdown",
   "metadata": {},
   "source": [
    "## 2. Regularized logistic regression\n",
    "\n",
    "In this part of the exercise, you will implement regularized logistic regression to predict whether microchips from a fabrication plant passes quality assurance (QA). During QA, each microchip goes through various tests to ensure it is functioning correctly.\n",
    "\n",
    "Suppose you are the product manager of the factory and you have the test results for some microchips on two different tests. From these two tests, you would like to determine whether the microchips should be accepted or rejected. To help you make the decision, you have a dataset of test results on past microchips, from which you can build a logistic regression model."
   ]
  },
  {
   "cell_type": "markdown",
   "metadata": {},
   "source": [
    "### 2.1. Visualizing thet data\n",
    "Similar to the previous parts of this exercise, `plotData` is used to generate a figure of the data, where the axes are the two test scores and the positive ($y = 1$, accepted) and negative ($y = 0$, rejected) examples\n",
    "are shown with different markers.\n",
    "\n",
    "But the data of `data/ex2/ex2data1.txt` cannot be separated into positive and negative examples by a straight-line through the plot. Therefore, a straight-forward application of logistic regression will only be able to find a linear decision boundary."
   ]
  },
  {
   "cell_type": "code",
   "execution_count": 15,
   "metadata": {
    "scrolled": false
   },
   "outputs": [
    {
     "name": "stdout",
     "output_type": "stream",
     "text": [
      "First 10 examples from the dataset:\n",
      "x = [ 0.051267  0.69956 ], y = [ 1.]\n",
      "x = [-0.092742  0.68494 ], y = [ 1.]\n",
      "x = [-0.21371  0.69225], y = [ 1.]\n",
      "x = [-0.375    0.50219], y = [ 1.]\n",
      "x = [-0.51325  0.46564], y = [ 1.]\n",
      "x = [-0.52477  0.2098 ], y = [ 1.]\n",
      "x = [-0.39804   0.034357], y = [ 1.]\n",
      "x = [-0.30588 -0.19225], y = [ 1.]\n",
      "x = [ 0.016705 -0.40424 ], y = [ 1.]\n",
      "x = [ 0.13191 -0.51389], y = [ 1.]\n"
     ]
    }
   ],
   "source": [
    "# Load data from CSV file\n",
    "# - column 1: score of microchip test 1\n",
    "# - column 2: score of microchip test 2\n",
    "# - column 3: accepted (1) or not (0)\n",
    "data_reg = np.loadtxt('data/ex2/ex2data2.txt', delimiter=',')\n",
    "\n",
    "# Split data into X and y\n",
    "X_reg, y_reg = np.hsplit(data_reg, np.array([2]))\n",
    "\n",
    "# Print out some data points\n",
    "print(\"First 10 examples from the dataset:\")\n",
    "for i in range(10):\n",
    "    print(\"x = \" + str(X_reg[i, :]) + \", y = \" + str(y_reg[i]))\n",
    "    \n"
   ]
  },
  {
   "cell_type": "code",
   "execution_count": 16,
   "metadata": {
    "scrolled": false
   },
   "outputs": [
    {
     "data": {
      "image/png": "[encoded data removed]",
      "text/plain": [
       "<matplotlib.figure.Figure at 0x117728978>"
      ]
     },
     "metadata": {},
     "output_type": "display_data"
    }
   ],
   "source": [
    "# Visualize the data\n",
    "plotData(X_reg, y_reg, \"y=1\", \"y=0\")\n",
    "plt.xlabel(\"Microchip Test 1\")\n",
    "plt.ylabel(\"Microchip Test 2\")\n",
    "plt.title(\"Plot of training data\")\n",
    "plt.show()"
   ]
  },
  {
   "cell_type": "markdown",
   "metadata": {},
   "source": [
    "### 2.2. Feature mapping\n",
    "One way to fit the data better is to create more features from each data point. In the function `mapFeature`, we will map the features into all polynomial terms of $x_1$ and $x_2$ up to the sixth power.\n",
    "$$\\text{mapFeature}(x) = \\left[\\begin{array}{c} 1 \\\\ x_1 \\\\ x_2 \\\\ x_2 \\\\ x_1^2 \\\\ x_1 x_2 \\\\ x_2^2 \\\\ x_1^3 \\\\ \\vdots \\\\ x_1 \\\\ x_2^5 \\\\ x_2^6 \\end{array} \\right]$$\n",
    "\n",
    "As a result of this mapping, our vector of two features (the scores on two QA tests) has been transformed into a 28-dimensional vector. A logistic regression classifier trained on this higher-dimension feature vector will have a more complex decision boundary and will appear nonlinear when drawn in our 2-dimensional plot.\n",
    "\n",
    "While the feature mapping allows us to build a more expressive classifier, it is also more susceptible to overfitting. In the next parts of the exercise, you will implement regularized logistic regression to fit the data and also see for yourself how regularization can help cambat the overfitting problem."
   ]
  },
  {
   "cell_type": "code",
   "execution_count": 17,
   "metadata": {
    "collapsed": true,
    "scrolled": false
   },
   "outputs": [],
   "source": [
    "def mapFeature(X1, X2):\n",
    "    \"\"\"\n",
    "    Feature mapping function to polynomial features.\n",
    "    `mapFeature(X1, X2)` maps the two input features to quadratic features\n",
    "    used in the regularization exercise.\n",
    "    Returns a new feature array with more features, comprising of\n",
    "    X1, X2, X1**2, X2**2, X1*(X2**2), etc.\n",
    "    The input X1, X2 must be the same size.\n",
    "    \"\"\"\n",
    "    \n",
    "    degree = 6\n",
    "    result = np.ones((X1.shape[0], 1))\n",
    "    for i in range(1, degree+1):\n",
    "        for j in range(i+1):\n",
    "            result = np.hstack((result, np.power(X1, i-j) * np.power(X2, j)))\n",
    "    \n",
    "    return result"
   ]
  },
  {
   "cell_type": "code",
   "execution_count": 18,
   "metadata": {
    "scrolled": false
   },
   "outputs": [],
   "source": [
    "# Note that mapFeature also adds a column of ones, so the intercept\n",
    "# term is handled\n",
    "X_reg = mapFeature(X_reg[:, 0][True].T, X_reg[:, 1][True].T)"
   ]
  },
  {
   "cell_type": "markdown",
   "metadata": {},
   "source": [
    "### 2.3. Cost function and gradient\n",
    "\n",
    "Now you will implement code to compute the cost function and gradient for regularized logistic regression. Complete the code in `costFunctionReg` function to return the cost and gradient.\n",
    "\n",
    "Recall that the regularized cost function in logistic regression is\n",
    "$$ J(\\theta) = \\frac{1}{m} [-y^{(i)} \\log (h_{\\theta}(x^{(i)})) - (1-y^{(i)}) \\log (1-h_{\\theta}(x^{(i)}))] + \\frac{\\lambda}{2m} \\sum_{j=1}^n \\theta_j^2 $$\n",
    "\n",
    "Note that you should not regularize the parameter $\\theta_0$. The gradient of the cost function is a vector where the $j^\\text{th}$ element is defined as follows:\n",
    "$$ \\frac{\\partial J(\\theta)}{\\partial \\theta_0} = \\frac{1}{m} \\sum_{i=1}^m (h_{\\theta}(x^{(i)}) - y^{(i)}) x_j^{(i)} \\qquad \\text{for } j = 0 $$\n",
    "$$ \\frac{\\partial J(\\theta)}{\\partial \\theta_j} = \\left(\\frac{1}{m} \\sum_{i=1}^m (h_{\\theta}(x^{(i)} - y^{(i)}) x_j^{(i)}\\right) + \\frac{\\lambda}{m} \\theta_j \\qquad \\text{for } j \\geq 1 $$\n",
    "\n",
    "Once you are done, the script will call your `costFunctionReg` function using the initial value of $\\theta$ (initialized to all zeros). You should see that the cost is about 0.693."
   ]
  },
  {
   "cell_type": "code",
   "execution_count": 19,
   "metadata": {
    "collapsed": true
   },
   "outputs": [],
   "source": [
    "def costFunctionReg(theta, X, y, rp):\n",
    "    \"\"\"\n",
    "    Computes the cost of using theta as the parameter for regularized\n",
    "    logistic regression and the gradient of the cost w.r.t. the parameters.\n",
    "    \"\"\"\n",
    "    \n",
    "    # Arguments theta and y may be rank 1 array\n",
    "    theta = theta.reshape((theta.shape[0], 1))\n",
    "    y = y.reshape((y.shape[0], 1))\n",
    "    \n",
    "    # Initialize the number of training examples\n",
    "    m = X.shape[0]\n",
    "    \n",
    "    # Compute the cost J\n",
    "    J = np.sum(- y * np.log(sigmoid(np.dot(X, theta))) \\\n",
    "               - (1-y) * np.log(1 - sigmoid(np.dot(X, theta)))) / m \\\n",
    "        + np.dot(theta[1:].T, theta[1:]) * rp / (2 * m)\n",
    "    J = np.squeeze(J)\n",
    "    \n",
    "    # Compute the gradients\n",
    "    grads = np.dot(X.T, sigmoid(np.dot(X, theta))-y) / m + rp / m * theta\n",
    "    grads[0] = grads[0] - rp / m * theta[0]\n",
    "    # Rerturn J and grads (grads should be a rank 1 array)\n",
    "    return J, grads.ravel()"
   ]
  },
  {
   "cell_type": "code",
   "execution_count": 20,
   "metadata": {
    "scrolled": false
   },
   "outputs": [
    {
     "name": "stdout",
     "output_type": "stream",
     "text": [
      "The number of training examples: 118\n",
      "The number of features: 28\n",
      "Cost at initial theta (zeros): \n",
      "0.6931471805599454\n",
      "Expected cost (approx): 0.693\n",
      "Gradient at initial theta (zeros) - first five values only:\n",
      "[[  8.47457627e-03]\n",
      " [  1.87880932e-02]\n",
      " [  7.77711864e-05]\n",
      " [  5.03446395e-02]\n",
      " [  1.15013308e-02]]\n",
      "Expected gradients (approx) - first five values only:\n",
      "[[ 0.0085]\n",
      " [ 0.0188]\n",
      " [ 0.0001]\n",
      " [ 0.0503]\n",
      " [ 0.0115]]\n",
      "Cost at test theta (ones) with rp = 10: \n",
      "3.1645093316150095\n",
      "Expected cost (approx): 3.16\n",
      "Gradient at test theta (ones) - first five values only:\n",
      "[[ 0.34604507]\n",
      " [ 0.16135192]\n",
      " [ 0.19479576]\n",
      " [ 0.22686278]\n",
      " [ 0.09218568]]\n",
      "Expected gradients (approx) - first five values only:\n",
      "[[ 0.346 ]\n",
      " [ 0.1614]\n",
      " [ 0.1948]\n",
      " [ 0.2269]\n",
      " [ 0.0922]]\n"
     ]
    }
   ],
   "source": [
    "# Get the number of examples (m) and the number of features (n)\n",
    "m, n = X_reg.shape\n",
    "print(\"The number of training examples: \" + str(m))\n",
    "print(\"The number of features: \" + str(n))\n",
    "\n",
    "# Initialize fitting parameters\n",
    "initial_theta = np.zeros((X_reg.shape[1], 1))\n",
    "# Set regularization parameter rp to 1\n",
    "rp = 1\n",
    "\n",
    "# Compute and display initial cost and gradient for regularized logistic\n",
    "# regression with all-zeros theta and rp = 1\n",
    "cost, grad = costFunctionReg(initial_theta, X_reg, y_reg, rp)\n",
    "\n",
    "print(\"Cost at initial theta (zeros): \")\n",
    "print(cost)\n",
    "print(\"Expected cost (approx): 0.693\")\n",
    "print(\"Gradient at initial theta (zeros) - first five values only:\")\n",
    "print(grad[0:5][True].T)\n",
    "print(\"Expected gradients (approx) - first five values only:\")\n",
    "print(np.array([[0.0085], [0.0188], [0.0001], [0.0503], [0.0115]]))\n",
    "\n",
    "# Set theta to all-ones\n",
    "test_theta = np.ones((X_reg.shape[1], 1))\n",
    "# Set regularization parameter rp to 10\n",
    "rp = 10\n",
    "\n",
    "# Compute and display cost and gradient with all-ones theta and rp = 10\n",
    "cost, grad = costFunctionReg(test_theta, X_reg, y_reg, rp)\n",
    "\n",
    "print(\"Cost at test theta (ones) with rp = 10: \")\n",
    "print(cost)\n",
    "print(\"Expected cost (approx): 3.16\")\n",
    "print(\"Gradient at test theta (ones) - first five values only:\")\n",
    "print(grad[0:5].reshape((5, 1)))\n",
    "print(\"Expected gradients (approx) - first five values only:\")\n",
    "print(np.array([[0.3460], [0.1614], [0.1948], [0.2269], [0.0922]]))"
   ]
  },
  {
   "cell_type": "markdown",
   "metadata": {},
   "source": [
    "#### 2.3.1. Learning parameters using `minimize`\n",
    "Similar to the previous parts, you will use `minimize` to learn the optimal parameters $\\theta$. If you have completed the cost and gradient for regularized logistic regression (`costFunctionReg`) correctly, you should be able to step through the next part to learn the parameters $\\theta$ using `minimize`."
   ]
  },
  {
   "cell_type": "code",
   "execution_count": 21,
   "metadata": {
    "scrolled": false
   },
   "outputs": [
    {
     "name": "stdout",
     "output_type": "stream",
     "text": [
      "Train Accuracy: 83.0508474576\n",
      "Expected accuracy (with rp = 1) (approx): 83.1\n"
     ]
    }
   ],
   "source": [
    "# Initialize fitting parameters\n",
    "initial_theta = np.zeros((X_reg.shape[1], 1))\n",
    "# Set regularization parameter rp to 1\n",
    "rp = 1\n",
    "\n",
    "# Optimizing using minimize\n",
    "optimizeResult = minimize(fun=costFunctionReg, x0=initial_theta.ravel(), \\\n",
    "                          args=(X_reg, y_reg.ravel(), rp), \\\n",
    "                          method='BFGS', jac=True, \\\n",
    "                          options={'maxiter':400})\n",
    "# print(optimizeResult)\n",
    "\n",
    "theta = optimizeResult.x\n",
    "theta = theta.reshape((theta.shape[0], 1))\n",
    "cost = optimizeResult.fun\n",
    "\n",
    "# Compute accuracy on our training set\n",
    "p = predict(theta, X_reg)\n",
    "accuracy = np.sum(p == y_reg) / m * 100  # when sum, True as 1, False as 0\n",
    "print(\"Train Accuracy: \" + str(accuracy))\n",
    "print(\"Expected accuracy (with rp = 1) (approx): 83.1\")"
   ]
  },
  {
   "cell_type": "markdown",
   "metadata": {},
   "source": [
    "### 2.4. Plotting the decision boundary\n",
    "To help you visualize the model learned by this classifier, `plotDecisionBoundary` will plot the decision boundary that separates the positive and negative examples. In `plotDecisionBoundary`, we plot the non-linear decision boundary by computing the classifier's predictions on an evenly spaced grid and then drew a contour plot of where the predictions change from $y = 0$ to $y = 1$."
   ]
  },
  {
   "cell_type": "code",
   "execution_count": 22,
   "metadata": {},
   "outputs": [
    {
     "data": {
      "image/png": "[encoded data removed]",
      "text/plain": [
       "<matplotlib.figure.Figure at 0x1176ab160>"
      ]
     },
     "metadata": {},
     "output_type": "display_data"
    }
   ],
   "source": [
    "plotDecisionBoundary(theta, X_reg, y_reg)\n",
    "plt.show()"
   ]
  },
  {
   "cell_type": "markdown",
   "metadata": {},
   "source": [
    "### 2.5. Try out different regularization parameters\n",
    "In this part of the exercise, you will get to try different regularization parameters for the dataset to understand how regularization prevents overfitting.\n",
    "\n",
    "Notice the changes in the decision boundary as you vary $\\lambda$. With a small $\\lambda$, you should find that the classifier gets almost every training example correct, but draws a very complicated boundary, thus overfitting the data. This is not a good decision boundary: for example, it predicts that a point at $x = (-0.25, 1.5)$ is accepted ($y = 1$), which seems to be an incorrect decision given the training set.\n",
    "\n",
    "With a larger $\\lambda$, you should see a plot that shows an simpler decision boundary which still separates the positive and negative fairly well. However, if $\\lambda$ is set too high a value, you will not get a good fit and the decision boundary will not follow the data so well, thus underfitting the data."
   ]
  },
  {
   "cell_type": "code",
   "execution_count": 23,
   "metadata": {
    "collapsed": true
   },
   "outputs": [],
   "source": [
    "def model(X, y, rp, initial_theta):\n",
    "    # Optimizing using minimize\n",
    "    optimizeResult = minimize(fun=costFunctionReg, x0=initial_theta.ravel(), \\\n",
    "                              args=(X, y.ravel(), rp), \\\n",
    "                              method='BFGS', jac=True, \\\n",
    "                              options={'maxiter':400})\n",
    "    theta = optimizeResult.x\n",
    "    theta = theta.reshape((theta.shape[0], 1))\n",
    "    \n",
    "    return theta"
   ]
  },
  {
   "cell_type": "code",
   "execution_count": 24,
   "metadata": {},
   "outputs": [
    {
     "data": {
      "image/png": "[encoded data removed]",
      "text/plain": [
       "<matplotlib.figure.Figure at 0x10baddac8>"
      ]
     },
     "metadata": {},
     "output_type": "display_data"
    },
    {
     "data": {
      "image/png": "[encoded data removed]",
      "text/plain": [
       "<matplotlib.figure.Figure at 0x1177289b0>"
      ]
     },
     "metadata": {},
     "output_type": "display_data"
    },
    {
     "data": {
      "image/png": "[encoded data removed]",
      "text/plain": [
       "<matplotlib.figure.Figure at 0x117502d68>"
      ]
     },
     "metadata": {},
     "output_type": "display_data"
    }
   ],
   "source": [
    "# Initialize fitting parameters\n",
    "initial_theta = np.zeros((X_reg.shape[1], 1))\n",
    "# Set regularization parameter rp to 1\n",
    "rpArray = [1, 0, 100]\n",
    "\n",
    "for rp in rpArray:\n",
    "    theta = model(X_reg, y_reg, rp, initial_theta)\n",
    "    plotDecisionBoundary(theta, X_reg, y_reg, rp)\n",
    "    plt.show()"
   ]
  }
 ],
 "metadata": {
  "kernelspec": {
   "display_name": "Python 3",
   "language": "python",
   "name": "python3"
  },
  "language_info": {
   "codemirror_mode": {
    "name": "ipython",
    "version": 3
   },
   "file_extension": ".py",
   "mimetype": "text/x-python",
   "name": "python",
   "nbconvert_exporter": "python",
   "pygments_lexer": "ipython3",
   "version": "3.6.2"
  }
 },
 "nbformat": 4,
 "nbformat_minor": 2
}
